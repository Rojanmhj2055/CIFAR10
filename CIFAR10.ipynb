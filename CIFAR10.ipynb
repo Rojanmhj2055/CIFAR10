{
  "nbformat": 4,
  "nbformat_minor": 0,
  "metadata": {
    "colab": {
      "name": "CIFAR10.ipynb",
      "provenance": [],
      "collapsed_sections": [],
      "mount_file_id": "1FJUP-VFMoSL2eFy265T7z7SZN9Fx-k0Q",
      "authorship_tag": "ABX9TyNajj3wnJjii7pbI7MIFCJG",
      "include_colab_link": true
    },
    "kernelspec": {
      "display_name": "Python 3",
      "name": "python3"
    },
    "accelerator": "GPU"
  },
  "cells": [
    {
      "cell_type": "markdown",
      "metadata": {
        "id": "view-in-github",
        "colab_type": "text"
      },
      "source": [
        "<a href=\"https://colab.research.google.com/github/Rojanmhj2055/CIFAR10/blob/master/CIFAR10.ipynb\" target=\"_parent\"><img src=\"https://colab.research.google.com/assets/colab-badge.svg\" alt=\"Open In Colab\"/></a>"
      ]
    },
    {
      "cell_type": "code",
      "metadata": {
        "id": "UExC1FojWVe4"
      },
      "source": [
        "%load_ext tensorboard\r\n",
        "!rm -rf ./logs/"
      ],
      "execution_count": null,
      "outputs": []
    },
    {
      "cell_type": "code",
      "metadata": {
        "id": "upSDYOW68SXK"
      },
      "source": [
        "#The CIFAR-10 dataset consists of 60000 32x32 colour images in 10 classes, \r\n",
        "#with 6000 images per class. There are 50000 training images and 10000 test images.\r\n",
        "import tensorflow as tf\r\n",
        "\r\n",
        "from tensorflow import keras\r\n",
        "import pandas\r\n",
        "import matplotlib.pyplot as plt\r\n",
        "import tensorflow_datasets as tfds\r\n",
        "from keras.datasets import cifar10\r\n",
        "from keras.utils import np_utils"
      ],
      "execution_count": null,
      "outputs": []
    },
    {
      "cell_type": "code",
      "metadata": {
        "id": "eCfOvqYkI2bI"
      },
      "source": [
        " (x_train, y_train), (x_test, y_test) = cifar10.load_data()"
      ],
      "execution_count": null,
      "outputs": []
    },
    {
      "cell_type": "code",
      "metadata": {
        "id": "qOthGn9DLpVd"
      },
      "source": [
        "import numpy as np\r\n",
        "\r\n",
        "label = [\"airplane\",\"automobile\",\"bird\",\"cat\",\"deer\",\"dog\",\"frog\",\"horse\",\"ship\",\"truck\"]\r\n"
      ],
      "execution_count": null,
      "outputs": []
    },
    {
      "cell_type": "code",
      "metadata": {
        "id": "MKqOt8X87GJN"
      },
      "source": [
        "\r\n",
        "y_train = np_utils.to_categorical(y_train,len(label))\r\n",
        "y_test = np_utils.to_categorical(y_test,len(label))"
      ],
      "execution_count": null,
      "outputs": []
    },
    {
      "cell_type": "code",
      "metadata": {
        "colab": {
          "base_uri": "https://localhost:8080/"
        },
        "id": "DJhWovbKe7EA",
        "outputId": "aeb891b6-168f-45b7-c6c5-e9169c53eb3b"
      },
      "source": [
        "x_train.shape"
      ],
      "execution_count": null,
      "outputs": [
        {
          "output_type": "execute_result",
          "data": {
            "text/plain": [
              "(50000, 32, 32, 3)"
            ]
          },
          "metadata": {
            "tags": []
          },
          "execution_count": 8
        }
      ]
    },
    {
      "cell_type": "code",
      "metadata": {
        "id": "vGQHleY3pnRt"
      },
      "source": [
        "mean = np.mean(x_train,axis=(0,1,2,3))\r\n",
        "std = np.std(x_train,axis=(0,1,2,3))\r\n",
        "x_train = (x_train-mean)/(std+1e-7)\r\n",
        "x_test = (x_test-mean)/(std+1e-7)"
      ],
      "execution_count": null,
      "outputs": []
    },
    {
      "cell_type": "code",
      "metadata": {
        "id": "OIRJHXCZerAw"
      },
      "source": [
        "from keras.callbacks import LearningRateScheduler\r\n",
        "n_labels = 10\r\n",
        "def lr_schedule(epoch):\r\n",
        "  lrate = 0.001\r\n",
        "  if epoch>75:\r\n",
        "    lr=0.0005\r\n",
        "  elif epoch > 150:\r\n",
        "    lrate = 0.0003\r\n",
        "  return lrate   "
      ],
      "execution_count": null,
      "outputs": []
    },
    {
      "cell_type": "code",
      "metadata": {
        "id": "jkJqq49hcSJw"
      },
      "source": [
        "def plot_model_history(model_history):\r\n",
        "    fig, axs = plt.subplots(1,2,figsize=(15,5))\r\n",
        "    # summarize history for accuracy\r\n",
        "    axs[0].plot(range(1,len(model_history.history['accuracy'])+1),model_history.history['accuracy']) \r\n",
        "    axs[0].plot(range(1,len(model_history.history['val_accuracy'])+1),model_history.history['val_accuracy'])\r\n",
        "    axs[0].set_title('Model Accuracy')\r\n",
        "    axs[0].set_ylabel('Accuracy')\r\n",
        "    axs[0].set_xlabel('Epoch')\r\n",
        "    axs[0].set_xticks(np.arange(1,len(model_history.history['accuracy'])+1),len(model_history.history['accuracy'])/10)\r\n",
        "    axs[0].legend(['train', 'val'], loc='best')\r\n",
        "    # summarize history for loss\r\n",
        "    axs[1].plot(range(1,len(model_history.history['loss'])+1),model_history.history['loss'])\r\n",
        "    axs[1].plot(range(1,len(model_history.history['val_loss'])+1),model_history.history['val_loss'])\r\n",
        "    axs[1].set_title('Model Loss')\r\n",
        "    axs[1].set_ylabel('Loss')\r\n",
        "    axs[1].set_xlabel('Epoch')\r\n",
        "    axs[1].set_xticks(np.arange(1,len(model_history.history['loss'])+1),len(model_history.history['loss'])/10)\r\n",
        "    axs[1].legend(['train', 'val'], loc='best')\r\n",
        "    plt.show()"
      ],
      "execution_count": null,
      "outputs": []
    },
    {
      "cell_type": "code",
      "metadata": {
        "id": "WG7ZA9y4cueR"
      },
      "source": [
        "def get_model():\r\n",
        "  my_new_model =tf.keras.models.Sequential()\r\n",
        "\r\n",
        "  my_new_model.add(keras.layers.Conv2D(64,(3,3),padding='same',activation='elu',input_shape=(32,32,3),kernel_regularizer=keras.regularizers.L2(0.0001)))\r\n",
        "  my_new_model.add(keras.layers.Conv2D(64,(3,3),padding='same',activation='elu',input_shape=(32,32,3),kernel_regularizer=keras.regularizers.L2(0.0001)))\r\n",
        "  my_new_model.add(keras.layers.BatchNormalization())\r\n",
        "  my_new_model.add(keras.layers.MaxPool2D((2,2)))\r\n",
        "  my_new_model.add(keras.layers.Dropout(0.3))\r\n",
        "\r\n",
        "  my_new_model.add(keras.layers.Conv2D(96,(3,3),padding='same',activation=\"elu\",kernel_regularizer=keras.regularizers.L2(0.0001)))\r\n",
        "  my_new_model.add(keras.layers.Conv2D(96,(3,3),padding='same',activation=\"elu\",kernel_regularizer=keras.regularizers.L2(0.0001)))\r\n",
        "  my_new_model.add(keras.layers.BatchNormalization())\r\n",
        "  my_new_model.add(keras.layers.MaxPool2D((2,2)))\r\n",
        "\r\n",
        "  my_new_model.add(keras.layers.Conv2D(128,(3,3),padding='same',activation=\"elu\",kernel_regularizer=keras.regularizers.L2(0.0001)))\r\n",
        "  my_new_model.add(keras.layers.Conv2D(128,(3,3),padding='same',activation=\"elu\",kernel_regularizer=keras.regularizers.L2(0.0001)))\r\n",
        "  my_new_model.add(keras.layers.BatchNormalization())\r\n",
        "  my_new_model.add(keras.layers.MaxPool2D(2,2))\r\n",
        "  my_new_model.add(keras.layers.Dropout(rate=0.25))\r\n",
        "\r\n",
        "\r\n",
        "\r\n",
        "\r\n",
        "  my_new_model.add(keras.layers.Conv2D(256,(3,3),padding='same',activation='elu',kernel_regularizer=keras.regularizers.l2(0.0001)))\r\n",
        "  my_new_model.add(keras.layers.BatchNormalization())\r\n",
        "  my_new_model.add(keras.layers.Conv2D(256,(3,3),padding='same',activation='elu',kernel_regularizer=keras.regularizers.l2(0.0001)))\r\n",
        "  my_new_model.add(keras.layers.BatchNormalization())\r\n",
        "  my_new_model.add(keras.layers.MaxPool2D((2,2)))\r\n",
        "  my_new_model.add(keras.layers.Dropout(0.5))\r\n",
        "  my_new_model.add(keras.layers.Flatten())\r\n",
        "\r\n",
        "  my_new_model.add(keras.layers.Dense(100,activation=\"elu\",kernel_regularizer= keras.regularizers.l2(0.0001)))\r\n",
        "  my_new_model.add(keras.layers.BatchNormalization())\r\n",
        "  my_new_model.add(keras.layers.Dropout(0.5))\r\n",
        "\r\n",
        "\r\n",
        "\r\n",
        "  my_new_model.add(keras.layers.Dense(n_labels,activation=\"softmax\"))\r\n",
        "  \r\n",
        "  return my_new_model"
      ],
      "execution_count": null,
      "outputs": []
    },
    {
      "cell_type": "code",
      "metadata": {
        "colab": {
          "base_uri": "https://localhost:8080/"
        },
        "id": "YvvCaVnEfVpT",
        "outputId": "3b5daa97-2f9a-4280-d7f8-958b63b3e6f9"
      },
      "source": [
        "x_train.shape"
      ],
      "execution_count": null,
      "outputs": [
        {
          "output_type": "execute_result",
          "data": {
            "text/plain": [
              "(50000, 32, 32, 3)"
            ]
          },
          "metadata": {
            "tags": []
          },
          "execution_count": 11
        }
      ]
    },
    {
      "cell_type": "code",
      "metadata": {
        "id": "UfYFmlPGyMCg"
      },
      "source": [
        "model  = get_model()\r\n",
        "\r\n",
        "optimizer = keras.optimizers.Adamax(lr=0.001,decay=1e-6)\r\n",
        "schedular = keras.callbacks.LearningRateScheduler(lr_schedule)\r\n",
        "# earlyStopping = keras.callbacks.EarlyStopping(monitor='accuracy',min_delta=0.5,patience=60,mode=\"max\")\r\n",
        "tensorboard_callback = tf.keras.callbacks.TensorBoard(\"/logs/mymodel\",histogram_freq=1,write_images=True)\r\n",
        "batch_size = 128\r\n",
        "epoch = 200"
      ],
      "execution_count": null,
      "outputs": []
    },
    {
      "cell_type": "code",
      "metadata": {
        "colab": {
          "base_uri": "https://localhost:8080/"
        },
        "id": "fWtukgoxSttf",
        "outputId": "21ccb3b8-a9c4-45d5-cae5-0d2a1739c9db"
      },
      "source": [
        "#data agumentation \r\n",
        "import time\r\n",
        "from keras.preprocessing.image import ImageDataGenerator\r\n",
        "\r\n",
        "datagen = ImageDataGenerator(\r\n",
        "    width_shift_range=0.1,\r\n",
        "    height_shift_range=0.1,\r\n",
        "    horizontal_flip = True,\r\n",
        "    rotation_range = 90,\r\n",
        "  \r\n",
        ")\r\n",
        "\r\n",
        "datagen.fit(x_train)\r\n",
        "\r\n",
        "model.compile(optimizer=optimizer,loss=tf.keras.losses.CategoricalCrossentropy(),metrics=['accuracy'])\r\n",
        "start = time.time()\r\n",
        "history = model.fit(datagen.flow(x_train,y_train,batch_size=batch_size),steps_per_epoch=x_train.shape[0]//batch_size,epochs=epoch,\r\n",
        "                           validation_data=(x_test,y_test), verbose=1,callbacks=[schedular,tensorboard_callback])\r\n",
        "end=time.time()"
      ],
      "execution_count": null,
      "outputs": [
        {
          "output_type": "stream",
          "text": [
            "Epoch 1/200\n",
            "390/390 [==============================] - 35s 69ms/step - loss: 2.6632 - accuracy: 0.2325 - val_loss: 2.2249 - val_accuracy: 0.3502\n",
            "Epoch 2/200\n",
            "390/390 [==============================] - 26s 67ms/step - loss: 1.9846 - accuracy: 0.3591 - val_loss: 2.0302 - val_accuracy: 0.3899\n",
            "Epoch 3/200\n",
            "390/390 [==============================] - 26s 66ms/step - loss: 1.7501 - accuracy: 0.4266 - val_loss: 1.5704 - val_accuracy: 0.4956\n",
            "Epoch 4/200\n",
            "390/390 [==============================] - 26s 67ms/step - loss: 1.6036 - accuracy: 0.4709 - val_loss: 1.4917 - val_accuracy: 0.5231\n",
            "Epoch 5/200\n",
            "390/390 [==============================] - 26s 67ms/step - loss: 1.4811 - accuracy: 0.5101 - val_loss: 1.3840 - val_accuracy: 0.5676\n",
            "Epoch 6/200\n",
            "390/390 [==============================] - 26s 67ms/step - loss: 1.3716 - accuracy: 0.5608 - val_loss: 1.2618 - val_accuracy: 0.5957\n",
            "Epoch 7/200\n",
            "390/390 [==============================] - 26s 66ms/step - loss: 1.3090 - accuracy: 0.5841 - val_loss: 1.2631 - val_accuracy: 0.6025\n",
            "Epoch 8/200\n",
            "390/390 [==============================] - 26s 67ms/step - loss: 1.2539 - accuracy: 0.6037 - val_loss: 1.1719 - val_accuracy: 0.6325\n",
            "Epoch 9/200\n",
            "390/390 [==============================] - 26s 67ms/step - loss: 1.1922 - accuracy: 0.6275 - val_loss: 1.2123 - val_accuracy: 0.6300\n",
            "Epoch 10/200\n",
            "390/390 [==============================] - 26s 67ms/step - loss: 1.1547 - accuracy: 0.6405 - val_loss: 1.1082 - val_accuracy: 0.6603\n",
            "Epoch 11/200\n",
            "390/390 [==============================] - 26s 67ms/step - loss: 1.1168 - accuracy: 0.6572 - val_loss: 1.0295 - val_accuracy: 0.6890\n",
            "Epoch 12/200\n",
            "390/390 [==============================] - 26s 68ms/step - loss: 1.0992 - accuracy: 0.6638 - val_loss: 1.0141 - val_accuracy: 0.6975\n",
            "Epoch 13/200\n",
            "390/390 [==============================] - 26s 67ms/step - loss: 1.0662 - accuracy: 0.6761 - val_loss: 0.9940 - val_accuracy: 0.7042\n",
            "Epoch 14/200\n",
            "390/390 [==============================] - 27s 68ms/step - loss: 1.0328 - accuracy: 0.6912 - val_loss: 1.0018 - val_accuracy: 0.7005\n",
            "Epoch 15/200\n",
            "390/390 [==============================] - 26s 67ms/step - loss: 1.0187 - accuracy: 0.6974 - val_loss: 0.9802 - val_accuracy: 0.7092\n",
            "Epoch 16/200\n",
            "390/390 [==============================] - 26s 65ms/step - loss: 0.9916 - accuracy: 0.7068 - val_loss: 0.9156 - val_accuracy: 0.7336\n",
            "Epoch 17/200\n",
            "390/390 [==============================] - 25s 65ms/step - loss: 0.9781 - accuracy: 0.7116 - val_loss: 1.0332 - val_accuracy: 0.6929\n",
            "Epoch 18/200\n",
            "390/390 [==============================] - 25s 64ms/step - loss: 0.9629 - accuracy: 0.7192 - val_loss: 0.9756 - val_accuracy: 0.7170\n",
            "Epoch 19/200\n",
            "390/390 [==============================] - 25s 65ms/step - loss: 0.9412 - accuracy: 0.7233 - val_loss: 0.9822 - val_accuracy: 0.7094\n",
            "Epoch 20/200\n",
            "390/390 [==============================] - 27s 68ms/step - loss: 0.9254 - accuracy: 0.7298 - val_loss: 0.8609 - val_accuracy: 0.7571\n",
            "Epoch 21/200\n",
            "390/390 [==============================] - 27s 68ms/step - loss: 0.9139 - accuracy: 0.7382 - val_loss: 1.0170 - val_accuracy: 0.7062\n",
            "Epoch 22/200\n",
            "390/390 [==============================] - 26s 67ms/step - loss: 0.8872 - accuracy: 0.7443 - val_loss: 0.8568 - val_accuracy: 0.7574\n",
            "Epoch 23/200\n",
            "390/390 [==============================] - 27s 68ms/step - loss: 0.8823 - accuracy: 0.7489 - val_loss: 0.8489 - val_accuracy: 0.7601\n",
            "Epoch 24/200\n",
            "390/390 [==============================] - 26s 68ms/step - loss: 0.8851 - accuracy: 0.7478 - val_loss: 0.9786 - val_accuracy: 0.7232\n",
            "Epoch 25/200\n",
            "390/390 [==============================] - 27s 68ms/step - loss: 0.8713 - accuracy: 0.7518 - val_loss: 0.8466 - val_accuracy: 0.7607\n",
            "Epoch 26/200\n",
            "390/390 [==============================] - 26s 68ms/step - loss: 0.8568 - accuracy: 0.7574 - val_loss: 0.8373 - val_accuracy: 0.7640\n",
            "Epoch 27/200\n",
            "390/390 [==============================] - 27s 68ms/step - loss: 0.8500 - accuracy: 0.7579 - val_loss: 0.8820 - val_accuracy: 0.7497\n",
            "Epoch 28/200\n",
            "390/390 [==============================] - 26s 68ms/step - loss: 0.8408 - accuracy: 0.7621 - val_loss: 0.8936 - val_accuracy: 0.7453\n",
            "Epoch 29/200\n",
            "390/390 [==============================] - 26s 68ms/step - loss: 0.8423 - accuracy: 0.7617 - val_loss: 0.7886 - val_accuracy: 0.7815\n",
            "Epoch 30/200\n",
            "390/390 [==============================] - 26s 68ms/step - loss: 0.8147 - accuracy: 0.7770 - val_loss: 0.8416 - val_accuracy: 0.7648\n",
            "Epoch 31/200\n",
            "390/390 [==============================] - 26s 67ms/step - loss: 0.8089 - accuracy: 0.7753 - val_loss: 0.7507 - val_accuracy: 0.7924\n",
            "Epoch 32/200\n",
            "390/390 [==============================] - 26s 68ms/step - loss: 0.8060 - accuracy: 0.7758 - val_loss: 0.8527 - val_accuracy: 0.7644\n",
            "Epoch 33/200\n",
            "390/390 [==============================] - 27s 68ms/step - loss: 0.8018 - accuracy: 0.7766 - val_loss: 0.8090 - val_accuracy: 0.7767\n",
            "Epoch 34/200\n",
            "390/390 [==============================] - 26s 67ms/step - loss: 0.7950 - accuracy: 0.7814 - val_loss: 0.7560 - val_accuracy: 0.7894\n",
            "Epoch 35/200\n",
            "390/390 [==============================] - 27s 68ms/step - loss: 0.7811 - accuracy: 0.7849 - val_loss: 0.7950 - val_accuracy: 0.7809\n",
            "Epoch 36/200\n",
            "390/390 [==============================] - 27s 69ms/step - loss: 0.7823 - accuracy: 0.7844 - val_loss: 0.7724 - val_accuracy: 0.7878\n",
            "Epoch 37/200\n",
            "390/390 [==============================] - 26s 67ms/step - loss: 0.7852 - accuracy: 0.7844 - val_loss: 0.7931 - val_accuracy: 0.7854\n",
            "Epoch 38/200\n",
            "390/390 [==============================] - 26s 68ms/step - loss: 0.7729 - accuracy: 0.7888 - val_loss: 0.7275 - val_accuracy: 0.8043\n",
            "Epoch 39/200\n",
            "390/390 [==============================] - 27s 68ms/step - loss: 0.7692 - accuracy: 0.7894 - val_loss: 0.8102 - val_accuracy: 0.7791\n",
            "Epoch 40/200\n",
            "390/390 [==============================] - 26s 68ms/step - loss: 0.7616 - accuracy: 0.7958 - val_loss: 0.8008 - val_accuracy: 0.7821\n",
            "Epoch 41/200\n",
            "390/390 [==============================] - 27s 69ms/step - loss: 0.7641 - accuracy: 0.7932 - val_loss: 0.7777 - val_accuracy: 0.7919\n",
            "Epoch 42/200\n",
            "390/390 [==============================] - 26s 67ms/step - loss: 0.7450 - accuracy: 0.8017 - val_loss: 0.7369 - val_accuracy: 0.8021\n",
            "Epoch 43/200\n",
            "390/390 [==============================] - 26s 68ms/step - loss: 0.7462 - accuracy: 0.7948 - val_loss: 0.7638 - val_accuracy: 0.7924\n",
            "Epoch 44/200\n",
            "390/390 [==============================] - 27s 69ms/step - loss: 0.7460 - accuracy: 0.7991 - val_loss: 0.7610 - val_accuracy: 0.7969\n",
            "Epoch 45/200\n",
            "390/390 [==============================] - 26s 68ms/step - loss: 0.7411 - accuracy: 0.7986 - val_loss: 0.7284 - val_accuracy: 0.8063\n",
            "Epoch 46/200\n",
            "390/390 [==============================] - 26s 67ms/step - loss: 0.7290 - accuracy: 0.8043 - val_loss: 0.7586 - val_accuracy: 0.7973\n",
            "Epoch 47/200\n",
            "390/390 [==============================] - 27s 68ms/step - loss: 0.7262 - accuracy: 0.8042 - val_loss: 0.7568 - val_accuracy: 0.7981\n",
            "Epoch 48/200\n",
            "390/390 [==============================] - 27s 68ms/step - loss: 0.7328 - accuracy: 0.8050 - val_loss: 0.7486 - val_accuracy: 0.8044\n",
            "Epoch 49/200\n",
            "390/390 [==============================] - 26s 68ms/step - loss: 0.7277 - accuracy: 0.8072 - val_loss: 0.7489 - val_accuracy: 0.8030\n",
            "Epoch 50/200\n",
            "390/390 [==============================] - 27s 68ms/step - loss: 0.7167 - accuracy: 0.8109 - val_loss: 0.7312 - val_accuracy: 0.8087\n",
            "Epoch 51/200\n",
            "390/390 [==============================] - 27s 68ms/step - loss: 0.7254 - accuracy: 0.8090 - val_loss: 0.7453 - val_accuracy: 0.8079\n",
            "Epoch 52/200\n",
            "390/390 [==============================] - 26s 68ms/step - loss: 0.7106 - accuracy: 0.8108 - val_loss: 0.7562 - val_accuracy: 0.8032\n",
            "Epoch 53/200\n",
            "390/390 [==============================] - 26s 68ms/step - loss: 0.7163 - accuracy: 0.8140 - val_loss: 0.7393 - val_accuracy: 0.8061\n",
            "Epoch 54/200\n",
            "390/390 [==============================] - 27s 68ms/step - loss: 0.7085 - accuracy: 0.8136 - val_loss: 0.6970 - val_accuracy: 0.8221\n",
            "Epoch 55/200\n",
            "390/390 [==============================] - 27s 68ms/step - loss: 0.6907 - accuracy: 0.8193 - val_loss: 0.7255 - val_accuracy: 0.8109\n",
            "Epoch 56/200\n",
            "390/390 [==============================] - 27s 69ms/step - loss: 0.7021 - accuracy: 0.8155 - val_loss: 0.6896 - val_accuracy: 0.8189\n",
            "Epoch 57/200\n",
            "390/390 [==============================] - 27s 69ms/step - loss: 0.6969 - accuracy: 0.8199 - val_loss: 0.6698 - val_accuracy: 0.8301\n",
            "Epoch 58/200\n",
            "390/390 [==============================] - 27s 69ms/step - loss: 0.6861 - accuracy: 0.8200 - val_loss: 0.7424 - val_accuracy: 0.8027\n",
            "Epoch 59/200\n",
            "390/390 [==============================] - 28s 71ms/step - loss: 0.6970 - accuracy: 0.8189 - val_loss: 0.7846 - val_accuracy: 0.7972\n",
            "Epoch 60/200\n",
            "390/390 [==============================] - 27s 69ms/step - loss: 0.6869 - accuracy: 0.8228 - val_loss: 0.6805 - val_accuracy: 0.8247\n",
            "Epoch 61/200\n",
            "390/390 [==============================] - 27s 70ms/step - loss: 0.6899 - accuracy: 0.8187 - val_loss: 0.6722 - val_accuracy: 0.8326\n",
            "Epoch 62/200\n",
            "390/390 [==============================] - 27s 68ms/step - loss: 0.6792 - accuracy: 0.8253 - val_loss: 0.7433 - val_accuracy: 0.8041\n",
            "Epoch 63/200\n",
            "390/390 [==============================] - 28s 73ms/step - loss: 0.6786 - accuracy: 0.8248 - val_loss: 0.7191 - val_accuracy: 0.8101\n",
            "Epoch 64/200\n",
            "390/390 [==============================] - 28s 73ms/step - loss: 0.6717 - accuracy: 0.8282 - val_loss: 0.7585 - val_accuracy: 0.8055\n",
            "Epoch 65/200\n",
            "390/390 [==============================] - 29s 73ms/step - loss: 0.6798 - accuracy: 0.8244 - val_loss: 0.7174 - val_accuracy: 0.8136\n",
            "Epoch 66/200\n",
            "390/390 [==============================] - 28s 72ms/step - loss: 0.6692 - accuracy: 0.8286 - val_loss: 0.7607 - val_accuracy: 0.7980\n",
            "Epoch 67/200\n",
            "390/390 [==============================] - 29s 74ms/step - loss: 0.6804 - accuracy: 0.8240 - val_loss: 0.6855 - val_accuracy: 0.8211\n",
            "Epoch 68/200\n",
            "390/390 [==============================] - 29s 74ms/step - loss: 0.6678 - accuracy: 0.8284 - val_loss: 0.6562 - val_accuracy: 0.8361\n",
            "Epoch 69/200\n",
            "390/390 [==============================] - 28s 73ms/step - loss: 0.6632 - accuracy: 0.8336 - val_loss: 0.6920 - val_accuracy: 0.8202\n",
            "Epoch 70/200\n",
            "390/390 [==============================] - 28s 73ms/step - loss: 0.6634 - accuracy: 0.8320 - val_loss: 0.6450 - val_accuracy: 0.8362\n",
            "Epoch 71/200\n",
            "390/390 [==============================] - 28s 72ms/step - loss: 0.6616 - accuracy: 0.8328 - val_loss: 0.6748 - val_accuracy: 0.8278\n",
            "Epoch 72/200\n",
            "390/390 [==============================] - 27s 69ms/step - loss: 0.6459 - accuracy: 0.8367 - val_loss: 0.6773 - val_accuracy: 0.8267\n",
            "Epoch 73/200\n",
            "390/390 [==============================] - 27s 70ms/step - loss: 0.6448 - accuracy: 0.8363 - val_loss: 0.7150 - val_accuracy: 0.8170\n",
            "Epoch 74/200\n",
            "390/390 [==============================] - 27s 70ms/step - loss: 0.6533 - accuracy: 0.8366 - val_loss: 0.7080 - val_accuracy: 0.8193\n",
            "Epoch 75/200\n",
            "390/390 [==============================] - 27s 70ms/step - loss: 0.6522 - accuracy: 0.8354 - val_loss: 0.7179 - val_accuracy: 0.8162\n",
            "Epoch 76/200\n",
            "390/390 [==============================] - 27s 70ms/step - loss: 0.6441 - accuracy: 0.8363 - val_loss: 0.6453 - val_accuracy: 0.8381\n",
            "Epoch 77/200\n",
            "390/390 [==============================] - 28s 71ms/step - loss: 0.6480 - accuracy: 0.8360 - val_loss: 0.7362 - val_accuracy: 0.8119\n",
            "Epoch 78/200\n",
            "390/390 [==============================] - 27s 70ms/step - loss: 0.6445 - accuracy: 0.8393 - val_loss: 0.6980 - val_accuracy: 0.8268\n",
            "Epoch 79/200\n",
            "390/390 [==============================] - 27s 69ms/step - loss: 0.6479 - accuracy: 0.8373 - val_loss: 0.6726 - val_accuracy: 0.8342\n",
            "Epoch 80/200\n",
            "390/390 [==============================] - 28s 71ms/step - loss: 0.6469 - accuracy: 0.8319 - val_loss: 0.6944 - val_accuracy: 0.8214\n",
            "Epoch 81/200\n",
            "390/390 [==============================] - 28s 71ms/step - loss: 0.6338 - accuracy: 0.8408 - val_loss: 0.6733 - val_accuracy: 0.8307\n",
            "Epoch 82/200\n",
            "390/390 [==============================] - 27s 70ms/step - loss: 0.6384 - accuracy: 0.8403 - val_loss: 0.6960 - val_accuracy: 0.8235\n",
            "Epoch 83/200\n",
            "390/390 [==============================] - 28s 71ms/step - loss: 0.6364 - accuracy: 0.8378 - val_loss: 0.6804 - val_accuracy: 0.8290\n",
            "Epoch 84/200\n",
            "390/390 [==============================] - 27s 70ms/step - loss: 0.6302 - accuracy: 0.8428 - val_loss: 0.6635 - val_accuracy: 0.8345\n",
            "Epoch 85/200\n",
            "390/390 [==============================] - 27s 70ms/step - loss: 0.6259 - accuracy: 0.8417 - val_loss: 0.6694 - val_accuracy: 0.8299\n",
            "Epoch 86/200\n",
            "390/390 [==============================] - 27s 70ms/step - loss: 0.6266 - accuracy: 0.8453 - val_loss: 0.6922 - val_accuracy: 0.8265\n",
            "Epoch 87/200\n",
            "390/390 [==============================] - 27s 70ms/step - loss: 0.6263 - accuracy: 0.8433 - val_loss: 0.6707 - val_accuracy: 0.8292\n",
            "Epoch 88/200\n",
            "390/390 [==============================] - 27s 70ms/step - loss: 0.6303 - accuracy: 0.8420 - val_loss: 0.7055 - val_accuracy: 0.8230\n",
            "Epoch 89/200\n",
            "390/390 [==============================] - 27s 70ms/step - loss: 0.6290 - accuracy: 0.8416 - val_loss: 0.7036 - val_accuracy: 0.8237\n",
            "Epoch 90/200\n",
            "390/390 [==============================] - 28s 71ms/step - loss: 0.6301 - accuracy: 0.8417 - val_loss: 0.6073 - val_accuracy: 0.8529\n",
            "Epoch 91/200\n",
            "390/390 [==============================] - 27s 70ms/step - loss: 0.6209 - accuracy: 0.8449 - val_loss: 0.7177 - val_accuracy: 0.8192\n",
            "Epoch 92/200\n",
            "390/390 [==============================] - 28s 72ms/step - loss: 0.6131 - accuracy: 0.8509 - val_loss: 0.6815 - val_accuracy: 0.8305\n",
            "Epoch 93/200\n",
            "390/390 [==============================] - 27s 70ms/step - loss: 0.6126 - accuracy: 0.8497 - val_loss: 0.6760 - val_accuracy: 0.8291\n",
            "Epoch 94/200\n",
            "390/390 [==============================] - 27s 69ms/step - loss: 0.6184 - accuracy: 0.8469 - val_loss: 0.6677 - val_accuracy: 0.8306\n",
            "Epoch 95/200\n",
            "390/390 [==============================] - 27s 69ms/step - loss: 0.6177 - accuracy: 0.8486 - val_loss: 0.6694 - val_accuracy: 0.8348\n",
            "Epoch 96/200\n",
            "390/390 [==============================] - 27s 70ms/step - loss: 0.6136 - accuracy: 0.8491 - val_loss: 0.6258 - val_accuracy: 0.8497\n",
            "Epoch 97/200\n",
            "390/390 [==============================] - 27s 70ms/step - loss: 0.6123 - accuracy: 0.8498 - val_loss: 0.6306 - val_accuracy: 0.8456\n",
            "Epoch 98/200\n",
            "390/390 [==============================] - 28s 71ms/step - loss: 0.6101 - accuracy: 0.8522 - val_loss: 0.6125 - val_accuracy: 0.8504\n",
            "Epoch 99/200\n",
            "390/390 [==============================] - 27s 70ms/step - loss: 0.6058 - accuracy: 0.8523 - val_loss: 0.6174 - val_accuracy: 0.8507\n",
            "Epoch 100/200\n",
            "390/390 [==============================] - 28s 71ms/step - loss: 0.6128 - accuracy: 0.8496 - val_loss: 0.6544 - val_accuracy: 0.8364\n",
            "Epoch 101/200\n",
            "390/390 [==============================] - 28s 71ms/step - loss: 0.6049 - accuracy: 0.8518 - val_loss: 0.6379 - val_accuracy: 0.8466\n",
            "Epoch 102/200\n",
            "390/390 [==============================] - 27s 70ms/step - loss: 0.6050 - accuracy: 0.8530 - val_loss: 0.6328 - val_accuracy: 0.8447\n",
            "Epoch 103/200\n",
            "390/390 [==============================] - 28s 71ms/step - loss: 0.6062 - accuracy: 0.8540 - val_loss: 0.6623 - val_accuracy: 0.8385\n",
            "Epoch 104/200\n",
            "390/390 [==============================] - 28s 71ms/step - loss: 0.6058 - accuracy: 0.8528 - val_loss: 0.6558 - val_accuracy: 0.8356\n",
            "Epoch 105/200\n",
            "390/390 [==============================] - 27s 70ms/step - loss: 0.6023 - accuracy: 0.8522 - val_loss: 0.6661 - val_accuracy: 0.8351\n",
            "Epoch 106/200\n",
            "390/390 [==============================] - 27s 70ms/step - loss: 0.6003 - accuracy: 0.8546 - val_loss: 0.7058 - val_accuracy: 0.8268\n",
            "Epoch 107/200\n",
            "390/390 [==============================] - 28s 71ms/step - loss: 0.5974 - accuracy: 0.8544 - val_loss: 0.6594 - val_accuracy: 0.8342\n",
            "Epoch 108/200\n",
            "390/390 [==============================] - 27s 70ms/step - loss: 0.5962 - accuracy: 0.8542 - val_loss: 0.6185 - val_accuracy: 0.8499\n",
            "Epoch 109/200\n",
            "390/390 [==============================] - 27s 70ms/step - loss: 0.5980 - accuracy: 0.8545 - val_loss: 0.7003 - val_accuracy: 0.8290\n",
            "Epoch 110/200\n",
            "390/390 [==============================] - 27s 70ms/step - loss: 0.6031 - accuracy: 0.8543 - val_loss: 0.6882 - val_accuracy: 0.8305\n",
            "Epoch 111/200\n",
            "390/390 [==============================] - 27s 70ms/step - loss: 0.5920 - accuracy: 0.8573 - val_loss: 0.6389 - val_accuracy: 0.8427\n",
            "Epoch 112/200\n",
            "390/390 [==============================] - 28s 71ms/step - loss: 0.6046 - accuracy: 0.8535 - val_loss: 0.5858 - val_accuracy: 0.8584\n",
            "Epoch 113/200\n",
            "390/390 [==============================] - 28s 71ms/step - loss: 0.5878 - accuracy: 0.8585 - val_loss: 0.7135 - val_accuracy: 0.8249\n",
            "Epoch 114/200\n",
            "390/390 [==============================] - 27s 70ms/step - loss: 0.5905 - accuracy: 0.8564 - val_loss: 0.6888 - val_accuracy: 0.8285\n",
            "Epoch 115/200\n",
            "390/390 [==============================] - 28s 71ms/step - loss: 0.5875 - accuracy: 0.8597 - val_loss: 0.6510 - val_accuracy: 0.8392\n",
            "Epoch 116/200\n",
            "390/390 [==============================] - 28s 71ms/step - loss: 0.5917 - accuracy: 0.8598 - val_loss: 0.6178 - val_accuracy: 0.8532\n",
            "Epoch 117/200\n",
            "390/390 [==============================] - 27s 70ms/step - loss: 0.5877 - accuracy: 0.8562 - val_loss: 0.6702 - val_accuracy: 0.8339\n",
            "Epoch 118/200\n",
            "390/390 [==============================] - 28s 71ms/step - loss: 0.5890 - accuracy: 0.8577 - val_loss: 0.6800 - val_accuracy: 0.8319\n",
            "Epoch 119/200\n",
            "390/390 [==============================] - 27s 70ms/step - loss: 0.5903 - accuracy: 0.8596 - val_loss: 0.6711 - val_accuracy: 0.8341\n",
            "Epoch 120/200\n",
            "390/390 [==============================] - 28s 71ms/step - loss: 0.5855 - accuracy: 0.8596 - val_loss: 0.6231 - val_accuracy: 0.8499\n",
            "Epoch 121/200\n",
            "390/390 [==============================] - 28s 71ms/step - loss: 0.5781 - accuracy: 0.8622 - val_loss: 0.6340 - val_accuracy: 0.8459\n",
            "Epoch 122/200\n",
            "390/390 [==============================] - 28s 71ms/step - loss: 0.5881 - accuracy: 0.8596 - val_loss: 0.5949 - val_accuracy: 0.8585\n",
            "Epoch 123/200\n",
            "390/390 [==============================] - 27s 70ms/step - loss: 0.5713 - accuracy: 0.8656 - val_loss: 0.6241 - val_accuracy: 0.8521\n",
            "Epoch 124/200\n",
            "390/390 [==============================] - 28s 71ms/step - loss: 0.5717 - accuracy: 0.8644 - val_loss: 0.6563 - val_accuracy: 0.8409\n",
            "Epoch 125/200\n",
            "390/390 [==============================] - 27s 70ms/step - loss: 0.5800 - accuracy: 0.8621 - val_loss: 0.6260 - val_accuracy: 0.8470\n",
            "Epoch 126/200\n",
            "390/390 [==============================] - 28s 71ms/step - loss: 0.5760 - accuracy: 0.8615 - val_loss: 0.6199 - val_accuracy: 0.8516\n",
            "Epoch 127/200\n",
            "390/390 [==============================] - 28s 71ms/step - loss: 0.5760 - accuracy: 0.8622 - val_loss: 0.6872 - val_accuracy: 0.8316\n",
            "Epoch 128/200\n",
            "390/390 [==============================] - 28s 71ms/step - loss: 0.5774 - accuracy: 0.8625 - val_loss: 0.5989 - val_accuracy: 0.8593\n",
            "Epoch 129/200\n",
            "390/390 [==============================] - 28s 71ms/step - loss: 0.5721 - accuracy: 0.8625 - val_loss: 0.6631 - val_accuracy: 0.8381\n",
            "Epoch 130/200\n",
            "390/390 [==============================] - 28s 71ms/step - loss: 0.5732 - accuracy: 0.8652 - val_loss: 0.6224 - val_accuracy: 0.8485\n",
            "Epoch 131/200\n",
            "390/390 [==============================] - 27s 70ms/step - loss: 0.5756 - accuracy: 0.8635 - val_loss: 0.6332 - val_accuracy: 0.8497\n",
            "Epoch 132/200\n",
            "390/390 [==============================] - 28s 71ms/step - loss: 0.5617 - accuracy: 0.8698 - val_loss: 0.6118 - val_accuracy: 0.8559\n",
            "Epoch 133/200\n",
            "390/390 [==============================] - 28s 71ms/step - loss: 0.5740 - accuracy: 0.8620 - val_loss: 0.6253 - val_accuracy: 0.8479\n",
            "Epoch 134/200\n",
            "390/390 [==============================] - 28s 71ms/step - loss: 0.5637 - accuracy: 0.8691 - val_loss: 0.6203 - val_accuracy: 0.8493\n",
            "Epoch 135/200\n",
            "390/390 [==============================] - 27s 70ms/step - loss: 0.5757 - accuracy: 0.8644 - val_loss: 0.6297 - val_accuracy: 0.8459\n",
            "Epoch 136/200\n",
            "390/390 [==============================] - 27s 70ms/step - loss: 0.5736 - accuracy: 0.8658 - val_loss: 0.6439 - val_accuracy: 0.8414\n",
            "Epoch 137/200\n",
            "390/390 [==============================] - 28s 72ms/step - loss: 0.5699 - accuracy: 0.8633 - val_loss: 0.6698 - val_accuracy: 0.8415\n",
            "Epoch 138/200\n",
            "390/390 [==============================] - 27s 70ms/step - loss: 0.5745 - accuracy: 0.8642 - val_loss: 0.5994 - val_accuracy: 0.8596\n",
            "Epoch 139/200\n",
            "390/390 [==============================] - 28s 71ms/step - loss: 0.5624 - accuracy: 0.8680 - val_loss: 0.6049 - val_accuracy: 0.8571\n",
            "Epoch 140/200\n",
            "390/390 [==============================] - 28s 71ms/step - loss: 0.5722 - accuracy: 0.8662 - val_loss: 0.6193 - val_accuracy: 0.8539\n",
            "Epoch 141/200\n",
            "390/390 [==============================] - 28s 71ms/step - loss: 0.5570 - accuracy: 0.8704 - val_loss: 0.6303 - val_accuracy: 0.8506\n",
            "Epoch 142/200\n",
            "390/390 [==============================] - 27s 70ms/step - loss: 0.5715 - accuracy: 0.8653 - val_loss: 0.6301 - val_accuracy: 0.8492\n",
            "Epoch 143/200\n",
            "390/390 [==============================] - 27s 70ms/step - loss: 0.5651 - accuracy: 0.8677 - val_loss: 0.6363 - val_accuracy: 0.8505\n",
            "Epoch 144/200\n",
            "390/390 [==============================] - 27s 70ms/step - loss: 0.5615 - accuracy: 0.8693 - val_loss: 0.6395 - val_accuracy: 0.8468\n",
            "Epoch 145/200\n",
            "390/390 [==============================] - 28s 71ms/step - loss: 0.5556 - accuracy: 0.8692 - val_loss: 0.6296 - val_accuracy: 0.8508\n",
            "Epoch 146/200\n",
            "390/390 [==============================] - 28s 71ms/step - loss: 0.5701 - accuracy: 0.8662 - val_loss: 0.6965 - val_accuracy: 0.8302\n",
            "Epoch 147/200\n",
            "390/390 [==============================] - 27s 70ms/step - loss: 0.5663 - accuracy: 0.8669 - val_loss: 0.6165 - val_accuracy: 0.8498\n",
            "Epoch 148/200\n",
            "390/390 [==============================] - 28s 71ms/step - loss: 0.5647 - accuracy: 0.8676 - val_loss: 0.6103 - val_accuracy: 0.8544\n",
            "Epoch 149/200\n",
            "390/390 [==============================] - 27s 70ms/step - loss: 0.5572 - accuracy: 0.8710 - val_loss: 0.6154 - val_accuracy: 0.8532\n",
            "Epoch 150/200\n",
            "390/390 [==============================] - 28s 71ms/step - loss: 0.5672 - accuracy: 0.8666 - val_loss: 0.6246 - val_accuracy: 0.8523\n",
            "Epoch 151/200\n",
            "390/390 [==============================] - 28s 71ms/step - loss: 0.5527 - accuracy: 0.8706 - val_loss: 0.6718 - val_accuracy: 0.8352\n",
            "Epoch 152/200\n",
            "390/390 [==============================] - 27s 69ms/step - loss: 0.5539 - accuracy: 0.8714 - val_loss: 0.6252 - val_accuracy: 0.8471\n",
            "Epoch 153/200\n",
            "390/390 [==============================] - 27s 70ms/step - loss: 0.5609 - accuracy: 0.8675 - val_loss: 0.6156 - val_accuracy: 0.8517\n",
            "Epoch 154/200\n",
            "390/390 [==============================] - 28s 71ms/step - loss: 0.5536 - accuracy: 0.8703 - val_loss: 0.6803 - val_accuracy: 0.8354\n",
            "Epoch 155/200\n",
            "390/390 [==============================] - 28s 71ms/step - loss: 0.5521 - accuracy: 0.8719 - val_loss: 0.5831 - val_accuracy: 0.8632\n",
            "Epoch 156/200\n",
            "390/390 [==============================] - 28s 71ms/step - loss: 0.5548 - accuracy: 0.8720 - val_loss: 0.6319 - val_accuracy: 0.8491\n",
            "Epoch 157/200\n",
            "390/390 [==============================] - 27s 69ms/step - loss: 0.5561 - accuracy: 0.8710 - val_loss: 0.6295 - val_accuracy: 0.8476\n",
            "Epoch 158/200\n",
            "390/390 [==============================] - 27s 69ms/step - loss: 0.5566 - accuracy: 0.8712 - val_loss: 0.6352 - val_accuracy: 0.8480\n",
            "Epoch 159/200\n",
            "390/390 [==============================] - 28s 71ms/step - loss: 0.5532 - accuracy: 0.8708 - val_loss: 0.5841 - val_accuracy: 0.8623\n",
            "Epoch 160/200\n",
            "390/390 [==============================] - 27s 70ms/step - loss: 0.5575 - accuracy: 0.8697 - val_loss: 0.6270 - val_accuracy: 0.8491\n",
            "Epoch 161/200\n",
            "390/390 [==============================] - 27s 70ms/step - loss: 0.5540 - accuracy: 0.8705 - val_loss: 0.6143 - val_accuracy: 0.8526\n",
            "Epoch 162/200\n",
            "390/390 [==============================] - 28s 73ms/step - loss: 0.5540 - accuracy: 0.8690 - val_loss: 0.6224 - val_accuracy: 0.8531\n",
            "Epoch 163/200\n",
            "390/390 [==============================] - 29s 74ms/step - loss: 0.5464 - accuracy: 0.8726 - val_loss: 0.6122 - val_accuracy: 0.8543\n",
            "Epoch 164/200\n",
            "390/390 [==============================] - 29s 73ms/step - loss: 0.5490 - accuracy: 0.8722 - val_loss: 0.5965 - val_accuracy: 0.8572\n",
            "Epoch 165/200\n",
            "390/390 [==============================] - 28s 71ms/step - loss: 0.5567 - accuracy: 0.8712 - val_loss: 0.5991 - val_accuracy: 0.8588\n",
            "Epoch 166/200\n",
            "390/390 [==============================] - 28s 71ms/step - loss: 0.5442 - accuracy: 0.8743 - val_loss: 0.6303 - val_accuracy: 0.8479\n",
            "Epoch 167/200\n",
            "390/390 [==============================] - 28s 72ms/step - loss: 0.5424 - accuracy: 0.8754 - val_loss: 0.5955 - val_accuracy: 0.8617\n",
            "Epoch 168/200\n",
            "390/390 [==============================] - 27s 70ms/step - loss: 0.5456 - accuracy: 0.8729 - val_loss: 0.5860 - val_accuracy: 0.8606\n",
            "Epoch 169/200\n",
            "390/390 [==============================] - 28s 71ms/step - loss: 0.5487 - accuracy: 0.8715 - val_loss: 0.5844 - val_accuracy: 0.8602\n",
            "Epoch 170/200\n",
            "390/390 [==============================] - 27s 70ms/step - loss: 0.5375 - accuracy: 0.8786 - val_loss: 0.6261 - val_accuracy: 0.8488\n",
            "Epoch 171/200\n",
            "390/390 [==============================] - 28s 72ms/step - loss: 0.5454 - accuracy: 0.8733 - val_loss: 0.6388 - val_accuracy: 0.8466\n",
            "Epoch 172/200\n",
            "390/390 [==============================] - 28s 71ms/step - loss: 0.5427 - accuracy: 0.8742 - val_loss: 0.6709 - val_accuracy: 0.8413\n",
            "Epoch 173/200\n",
            "390/390 [==============================] - 28s 71ms/step - loss: 0.5511 - accuracy: 0.8720 - val_loss: 0.6634 - val_accuracy: 0.8392\n",
            "Epoch 174/200\n",
            "390/390 [==============================] - 28s 71ms/step - loss: 0.5357 - accuracy: 0.8772 - val_loss: 0.5887 - val_accuracy: 0.8607\n",
            "Epoch 175/200\n",
            "390/390 [==============================] - 28s 71ms/step - loss: 0.5460 - accuracy: 0.8743 - val_loss: 0.6456 - val_accuracy: 0.8475\n",
            "Epoch 176/200\n",
            "390/390 [==============================] - 28s 71ms/step - loss: 0.5478 - accuracy: 0.8750 - val_loss: 0.5915 - val_accuracy: 0.8619\n",
            "Epoch 177/200\n",
            "390/390 [==============================] - 28s 71ms/step - loss: 0.5380 - accuracy: 0.8755 - val_loss: 0.6752 - val_accuracy: 0.8365\n",
            "Epoch 178/200\n",
            "390/390 [==============================] - 27s 70ms/step - loss: 0.5487 - accuracy: 0.8740 - val_loss: 0.6038 - val_accuracy: 0.8569\n",
            "Epoch 179/200\n",
            "390/390 [==============================] - 28s 71ms/step - loss: 0.5292 - accuracy: 0.8789 - val_loss: 0.5975 - val_accuracy: 0.8568\n",
            "Epoch 180/200\n",
            "390/390 [==============================] - 28s 71ms/step - loss: 0.5371 - accuracy: 0.8767 - val_loss: 0.6949 - val_accuracy: 0.8320\n",
            "Epoch 181/200\n",
            "390/390 [==============================] - 27s 70ms/step - loss: 0.5331 - accuracy: 0.8775 - val_loss: 0.5918 - val_accuracy: 0.8625\n",
            "Epoch 182/200\n",
            "390/390 [==============================] - 28s 72ms/step - loss: 0.5381 - accuracy: 0.8761 - val_loss: 0.6328 - val_accuracy: 0.8486\n",
            "Epoch 183/200\n",
            "390/390 [==============================] - 27s 70ms/step - loss: 0.5315 - accuracy: 0.8768 - val_loss: 0.5979 - val_accuracy: 0.8576\n",
            "Epoch 184/200\n",
            "390/390 [==============================] - 28s 71ms/step - loss: 0.5397 - accuracy: 0.8787 - val_loss: 0.6604 - val_accuracy: 0.8428\n",
            "Epoch 185/200\n",
            "390/390 [==============================] - 28s 71ms/step - loss: 0.5340 - accuracy: 0.8783 - val_loss: 0.6342 - val_accuracy: 0.8520\n",
            "Epoch 186/200\n",
            "390/390 [==============================] - 27s 70ms/step - loss: 0.5358 - accuracy: 0.8764 - val_loss: 0.5875 - val_accuracy: 0.8655\n",
            "Epoch 187/200\n",
            "390/390 [==============================] - 28s 71ms/step - loss: 0.5360 - accuracy: 0.8808 - val_loss: 0.6274 - val_accuracy: 0.8524\n",
            "Epoch 188/200\n",
            "390/390 [==============================] - 28s 71ms/step - loss: 0.5297 - accuracy: 0.8787 - val_loss: 0.6456 - val_accuracy: 0.8451\n",
            "Epoch 189/200\n",
            "390/390 [==============================] - 27s 70ms/step - loss: 0.5399 - accuracy: 0.8761 - val_loss: 0.6363 - val_accuracy: 0.8486\n",
            "Epoch 190/200\n",
            "390/390 [==============================] - 28s 71ms/step - loss: 0.5369 - accuracy: 0.8752 - val_loss: 0.6243 - val_accuracy: 0.8546\n",
            "Epoch 191/200\n",
            "390/390 [==============================] - 28s 71ms/step - loss: 0.5405 - accuracy: 0.8760 - val_loss: 0.5889 - val_accuracy: 0.8632\n",
            "Epoch 192/200\n",
            "390/390 [==============================] - 28s 71ms/step - loss: 0.5314 - accuracy: 0.8831 - val_loss: 0.5799 - val_accuracy: 0.8725\n",
            "Epoch 193/200\n",
            "390/390 [==============================] - 28s 72ms/step - loss: 0.5331 - accuracy: 0.8784 - val_loss: 0.6476 - val_accuracy: 0.8484\n",
            "Epoch 194/200\n",
            "390/390 [==============================] - 28s 71ms/step - loss: 0.5323 - accuracy: 0.8768 - val_loss: 0.6300 - val_accuracy: 0.8519\n",
            "Epoch 195/200\n",
            "390/390 [==============================] - 28s 71ms/step - loss: 0.5299 - accuracy: 0.8786 - val_loss: 0.6108 - val_accuracy: 0.8572\n",
            "Epoch 196/200\n",
            "390/390 [==============================] - 28s 72ms/step - loss: 0.5426 - accuracy: 0.8765 - val_loss: 0.6708 - val_accuracy: 0.8407\n",
            "Epoch 197/200\n",
            "390/390 [==============================] - 28s 71ms/step - loss: 0.5277 - accuracy: 0.8803 - val_loss: 0.6150 - val_accuracy: 0.8537\n",
            "Epoch 198/200\n",
            "390/390 [==============================] - 28s 71ms/step - loss: 0.5244 - accuracy: 0.8822 - val_loss: 0.6061 - val_accuracy: 0.8610\n",
            "Epoch 199/200\n",
            "390/390 [==============================] - 28s 71ms/step - loss: 0.5272 - accuracy: 0.8807 - val_loss: 0.6326 - val_accuracy: 0.8509\n",
            "Epoch 200/200\n",
            "390/390 [==============================] - 28s 71ms/step - loss: 0.5248 - accuracy: 0.8809 - val_loss: 0.6146 - val_accuracy: 0.8566\n"
          ],
          "name": "stdout"
        }
      ]
    },
    {
      "cell_type": "code",
      "metadata": {
        "id": "PM2Ya6OxZX3C"
      },
      "source": [
        "tensorboard --logdir=\"/logs/mymodel\""
      ],
      "execution_count": null,
      "outputs": []
    },
    {
      "cell_type": "code",
      "metadata": {
        "id": "YhO4gTKUSQ76"
      },
      "source": [
        "!mkdir -p saved_model"
      ],
      "execution_count": 12,
      "outputs": []
    },
    {
      "cell_type": "code",
      "metadata": {
        "colab": {
          "base_uri": "https://localhost:8080/"
        },
        "id": "5Z5kDXBZSaPB",
        "outputId": "609d66a5-264d-472a-9317-800e0172d394"
      },
      "source": [
        "model.save('drive/MyDrive/saved_model/my_model')"
      ],
      "execution_count": null,
      "outputs": [
        {
          "output_type": "stream",
          "text": [
            "INFO:tensorflow:Assets written to: /drive/saved_model/my_model/assets\n"
          ],
          "name": "stdout"
        }
      ]
    },
    {
      "cell_type": "code",
      "metadata": {
        "id": "83PDXLynRxob",
        "colab": {
          "base_uri": "https://localhost:8080/"
        },
        "outputId": "0eee2187-a64e-40a3-e32c-48e2cf97f1b6"
      },
      "source": [
        "print(\"The time to train the model:\",end-start)"
      ],
      "execution_count": null,
      "outputs": [
        {
          "output_type": "stream",
          "text": [
            "The time to train the model: 5493.555520772934\n"
          ],
          "name": "stdout"
        }
      ]
    },
    {
      "cell_type": "code",
      "metadata": {
        "id": "V6hGHijfSkGq"
      },
      "source": [
        "import requests\r\n",
        "from PIL import Image\r\n"
      ],
      "execution_count": null,
      "outputs": []
    },
    {
      "cell_type": "code",
      "metadata": {
        "colab": {
          "base_uri": "https://localhost:8080/"
        },
        "id": "eTTx_9kgT5bV",
        "outputId": "aaf3913d-f477-4524-fc4f-4801135a2a2e"
      },
      "source": [
        "url =\"https://ichef.bbci.co.uk/news/976/cpsprodpb/12A9B/production/_111434467_gettyimages-1143489763.jpg\"\r\n",
        "response = requests.get(url,stream=True)\r\n",
        "print(response.status_code)\r\n",
        "img = Image.open(response.raw)\r\n",
        "img =tf.keras.preprocessing.image.img_to_array(img)\r\n",
        "img = tf.image.resize(img,[32,32])\r\n",
        "# img= tf.keras.preprocessing.image.array_to_img(img)"
      ],
      "execution_count": null,
      "outputs": [
        {
          "output_type": "stream",
          "text": [
            "200\n"
          ],
          "name": "stdout"
        }
      ]
    },
    {
      "cell_type": "code",
      "metadata": {
        "id": "Hh2qaArweqJX"
      },
      "source": [
        "def standardize(images,mean,std):\r\n",
        "  images = (images - mean)/(std+1e-7)\r\n",
        "  return image"
      ],
      "execution_count": null,
      "outputs": []
    },
    {
      "cell_type": "code",
      "metadata": {
        "id": "iyhHCSWcq4y7"
      },
      "source": [
        "def show_image(images,labels,mean,std):\r\n",
        "  \r\n",
        "  fig = plt.figure(figsize=(25,10))\r\n",
        "\r\n",
        "  for i in np.arange(20):\r\n",
        "  \r\n",
        "    ax = fig.add_subplot(2,10,i+1)\r\n",
        "    plt.imshow(images[i])\r\n",
        "    plt.subplots_adjust(bottom=0.2,hspace=0.3,wspace=0.1)\r\n",
        "    my_image = tf.expand_dims(standardize(images[i],mean,std),axis=0)\r\n",
        "    pred = label[np.argmax(model.predict(my_image))]\r\n",
        "    l = label[np.argmax(labels[i])]\r\n",
        "   \r\n",
        "    ax.set_title('{} pred [{}]'.format(l,pred),color=(\"green\" if pred==l else \"red\"))"
      ],
      "execution_count": null,
      "outputs": []
    },
    {
      "cell_type": "code",
      "metadata": {
        "id": "p6Y7ozyzhcUN"
      },
      "source": [
        ""
      ],
      "execution_count": null,
      "outputs": []
    }
  ]
}